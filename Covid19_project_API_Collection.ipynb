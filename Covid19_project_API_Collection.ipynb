{
  "nbformat": 4,
  "nbformat_minor": 0,
  "metadata": {
    "colab": {
      "name": "Covid19_project_API_Collection.ipynb",
      "provenance": [],
      "collapsed_sections": [],
      "toc_visible": true
    },
    "kernelspec": {
      "name": "python3",
      "display_name": "Python 3"
    },
    "language_info": {
      "name": "python"
    }
  },
  "cells": [
    {
      "cell_type": "code",
      "execution_count": 1,
      "metadata": {
        "id": "cXF-iIwKzq3a"
      },
      "outputs": [],
      "source": [
        "#import libraries\n",
        "import requests #API calls\n",
        "import pandas as pd\n",
        "import time\n",
        "from google.colab import files\n",
        "import sys"
      ]
    },
    {
      "cell_type": "code",
      "source": [
        "#BC\n",
        "def covid_BC(df_deaths, df_cases):\n",
        "    url_BC_deaths = 'https://api.opencovid.ca/timeseries?stat=mortality&loc=BC&after=28-01-2020'\n",
        "    response_BC_deaths = requests.get(url_BC_deaths).json()\n",
        "    url_BC_cases = 'https://api.opencovid.ca/timeseries?stat=cases&loc=BC&after=28-01-2020'\n",
        "    response_BC_cases = requests.get(url_BC_cases).json()\n",
        "\n",
        "    time.sleep(1)\n",
        "\n",
        "    for day in response_BC_deaths['mortality']:\n",
        "        daily_deaths_BC = day['deaths']\n",
        "        cumulative_deaths_BC = day['cumulative_deaths']\n",
        "        death_date = day['date_death_report']\n",
        "        df_deaths = df_deaths.append({'reporting_date': death_date, 'daily_deaths': daily_deaths_BC,\n",
        "                                    'cumulative_deaths': cumulative_deaths_BC}, ignore_index = True)\n",
        "            \n",
        "    for day in response_BC_cases['cases']:\n",
        "            daily_cases_BC = day['cases']\n",
        "            cumulative_cases_BC = day['cumulative_cases']\n",
        "            case_date = day['date_report']\n",
        "            df_cases = df_cases.append({'reporting_date': case_date, 'daily_cases': daily_cases_BC,\n",
        "                                        'cumulative_cases': cumulative_cases_BC}, ignore_index = True)\n",
        "            \n",
        "    df_BC = pd.merge(df_cases, df_deaths, on='reporting_date')\n",
        "#    df_BC.set_index('reporting_date', inplace=True)\n",
        "    return df_BC"
      ],
      "metadata": {
        "id": "SiTNfd_acFuN"
      },
      "execution_count": 2,
      "outputs": []
    },
    {
      "cell_type": "code",
      "source": [
        "#alberta\n",
        "def covid_AB(df_deaths, df_cases):\n",
        "    url_AB_deaths = 'https://api.opencovid.ca/timeseries?stat=mortality&loc=AB&after=05-03-2020'\n",
        "    response_AB_deaths = requests.get(url_AB_deaths).json()\n",
        "    url_AB_cases = 'https://api.opencovid.ca/timeseries?stat=cases&loc=AB&after=05-03-2020'\n",
        "    response_AB_cases = requests.get(url_AB_cases).json()\n",
        "\n",
        "    time.sleep(1)\n",
        "\n",
        "    for day in response_AB_deaths['mortality']:\n",
        "        daily_deaths_AB = day['deaths']\n",
        "        cumulative_deaths_AB = day['cumulative_deaths']\n",
        "        death_date = day['date_death_report']\n",
        "        df_deaths = df_deaths.append({'reporting_date': death_date, 'daily_deaths': daily_deaths_AB,\n",
        "                                    'cumulative_deaths': cumulative_deaths_AB}, ignore_index = True)\n",
        "            \n",
        "    for day in response_AB_cases['cases']:\n",
        "            daily_cases_AB = day['cases']\n",
        "            cumulative_cases_AB = day['cumulative_cases']\n",
        "            case_date = day['date_report']\n",
        "            df_cases = df_cases.append({'reporting_date': case_date, 'daily_cases': daily_cases_AB,\n",
        "                                        'cumulative_cases': cumulative_cases_AB}, ignore_index = True)\n",
        "            \n",
        "    df_AB = pd.merge(df_cases, df_deaths, on='reporting_date')\n",
        "#    df_AB.set_index('reporting_date', inplace=True)\n",
        "    return df_AB"
      ],
      "metadata": {
        "id": "4zVAAdAT6ufv"
      },
      "execution_count": 3,
      "outputs": []
    },
    {
      "cell_type": "code",
      "source": [
        "#manitoba\n",
        "def covid_MB(df_deaths, df_cases):\n",
        "    url_MB_deaths = 'https://api.opencovid.ca/timeseries?stat=mortality&loc=MB&after=12-03-2020'\n",
        "    response_MB_deaths = requests.get(url_MB_deaths).json()\n",
        "    url_MB_cases = 'https://api.opencovid.ca/timeseries?stat=cases&loc=MB&after=12-03-2020'\n",
        "    response_MB_cases = requests.get(url_MB_cases).json()\n",
        "\n",
        "    time.sleep(1)\n",
        "\n",
        "    for day in response_MB_deaths['mortality']:\n",
        "        daily_deaths_MB = day['deaths']\n",
        "        cumulative_deaths_MB = day['cumulative_deaths']\n",
        "        death_date = day['date_death_report']\n",
        "        df_deaths = df_deaths.append({'reporting_date': death_date, 'daily_deaths': daily_deaths_MB,\n",
        "                                    'cumulative_deaths': cumulative_deaths_MB}, ignore_index = True)\n",
        "            \n",
        "    for day in response_MB_cases['cases']:\n",
        "            daily_cases_MB = day['cases']\n",
        "            cumulative_cases_MB = day['cumulative_cases']\n",
        "            case_date = day['date_report']\n",
        "            df_cases = df_cases.append({'reporting_date': case_date, 'daily_cases': daily_cases_MB,\n",
        "                                        'cumulative_cases': cumulative_cases_MB}, ignore_index = True)\n",
        "            \n",
        "    df_MB = pd.merge(df_cases, df_deaths, on='reporting_date')\n",
        "#    df_MB.set_index('reporting_date', inplace=True)\n",
        "    return df_MB"
      ],
      "metadata": {
        "id": "VAFVMjyI846r"
      },
      "execution_count": 4,
      "outputs": []
    },
    {
      "cell_type": "code",
      "source": [
        "#new brunswick\n",
        "def covid_NB(df_deaths, df_cases):\n",
        "    url_NB_deaths = 'https://api.opencovid.ca/timeseries?stat=mortality&loc=NB&after=12-03-2020'\n",
        "    response_NB_deaths = requests.get(url_NB_deaths).json()\n",
        "    url_NB_cases = 'https://api.opencovid.ca/timeseries?stat=cases&loc=NB&after=12-03-2020'\n",
        "    response_NB_cases = requests.get(url_NB_cases).json()\n",
        "\n",
        "    time.sleep(1)\n",
        "\n",
        "    for day in response_NB_deaths['mortality']:\n",
        "        daily_deaths_NB = day['deaths']\n",
        "        cumulative_deaths_NB = day['cumulative_deaths']\n",
        "        death_date = day['date_death_report']\n",
        "        df_deaths = df_deaths.append({'reporting_date': death_date, 'daily_deaths': daily_deaths_NB,\n",
        "                                    'cumulative_deaths': cumulative_deaths_NB}, ignore_index = True)\n",
        "            \n",
        "    for day in response_NB_cases['cases']:\n",
        "            daily_cases_NB = day['cases']\n",
        "            cumulative_cases_NB = day['cumulative_cases']\n",
        "            case_date = day['date_report']\n",
        "            df_cases = df_cases.append({'reporting_date': case_date, 'daily_cases': daily_cases_NB,\n",
        "                                        'cumulative_cases': cumulative_cases_NB}, ignore_index = True)\n",
        "            \n",
        "    df_NB = pd.merge(df_cases, df_deaths, on='reporting_date')\n",
        "#    df_NB.set_index('reporting_date', inplace=True)\n",
        "    return df_NB"
      ],
      "metadata": {
        "id": "s4SihvrI9daT"
      },
      "execution_count": 5,
      "outputs": []
    },
    {
      "cell_type": "code",
      "source": [
        "#newfoundland and labrador\n",
        "def covid_NL(df_deaths, df_cases):\n",
        "    url_NL_deaths = 'https://api.opencovid.ca/timeseries?stat=mortality&loc=NL&after=14-03-2020'\n",
        "    response_NL_deaths = requests.get(url_NL_deaths).json()\n",
        "    url_NL_cases = 'https://api.opencovid.ca/timeseries?stat=cases&loc=NL&after=14-03-2020'\n",
        "    response_NL_cases = requests.get(url_NL_cases).json()\n",
        "\n",
        "    time.sleep(1)\n",
        "\n",
        "    for day in response_NL_deaths['mortality']:\n",
        "        daily_deaths_NL = day['deaths']\n",
        "        cumulative_deaths_NL = day['cumulative_deaths']\n",
        "        death_date = day['date_death_report']\n",
        "        df_deaths = df_deaths.append({'reporting_date': death_date, 'daily_deaths': daily_deaths_NL,\n",
        "                                    'cumulative_deaths': cumulative_deaths_NL}, ignore_index = True)\n",
        "            \n",
        "    for day in response_NL_cases['cases']:\n",
        "            daily_cases_NL = day['cases']\n",
        "            cumulative_cases_NL = day['cumulative_cases']\n",
        "            case_date = day['date_report']\n",
        "            df_cases = df_cases.append({'reporting_date': case_date, 'daily_cases': daily_cases_NL,\n",
        "                                        'cumulative_cases': cumulative_cases_NL}, ignore_index = True)\n",
        "            \n",
        "    df_NL = pd.merge(df_cases, df_deaths, on='reporting_date')\n",
        "#    df_NL.set_index('reporting_date', inplace=True)\n",
        "    return df_NL"
      ],
      "metadata": {
        "id": "Uwpfj6lW-fFg"
      },
      "execution_count": 6,
      "outputs": []
    },
    {
      "cell_type": "code",
      "source": [
        "#northwest territories\n",
        "def covid_NT(df_deaths, df_cases):\n",
        "    url_NT_deaths = 'https://api.opencovid.ca/timeseries?stat=mortality&loc=NT&after=21-03-2020'\n",
        "    response_NT_deaths = requests.get(url_NT_deaths).json()\n",
        "    url_NT_cases = 'https://api.opencovid.ca/timeseries?stat=cases&loc=NT&after=21-03-2020'\n",
        "    response_NT_cases = requests.get(url_NT_cases).json()\n",
        "\n",
        "    time.sleep(1)\n",
        "\n",
        "    for day in response_NT_deaths['mortality']:\n",
        "        daily_deaths_NT = day['deaths']\n",
        "        cumulative_deaths_NT = day['cumulative_deaths']\n",
        "        death_date = day['date_death_report']\n",
        "        df_deaths = df_deaths.append({'reporting_date': death_date, 'daily_deaths': daily_deaths_NT,\n",
        "                                    'cumulative_deaths': cumulative_deaths_NT}, ignore_index = True)\n",
        "            \n",
        "    for day in response_NT_cases['cases']:\n",
        "            daily_cases_NT = day['cases']\n",
        "            cumulative_cases_NT = day['cumulative_cases']\n",
        "            case_date = day['date_report']\n",
        "            df_cases = df_cases.append({'reporting_date': case_date, 'daily_cases': daily_cases_NT,\n",
        "                                        'cumulative_cases': cumulative_cases_NT}, ignore_index = True)\n",
        "            \n",
        "    df_NT = pd.merge(df_cases, df_deaths, on='reporting_date')\n",
        "#    df_NT.set_index('reporting_date', inplace=True)\n",
        "    return df_NT"
      ],
      "metadata": {
        "id": "NE_HBerb_9v1"
      },
      "execution_count": 7,
      "outputs": []
    },
    {
      "cell_type": "code",
      "source": [
        "#nova scotia\n",
        "def covid_NS(df_deaths, df_cases):\n",
        "    url_NS_deaths = 'https://api.opencovid.ca/timeseries?stat=mortality&loc=NS&after=15-03-2020'\n",
        "    response_NS_deaths = requests.get(url_NS_deaths).json()\n",
        "    url_NS_cases = 'https://api.opencovid.ca/timeseries?stat=cases&loc=NS&after=15-03-2020'\n",
        "    response_NS_cases = requests.get(url_NS_cases).json()\n",
        "\n",
        "    time.sleep(1)\n",
        "\n",
        "    for day in response_NS_deaths['mortality']:\n",
        "        daily_deaths_NS = day['deaths']\n",
        "        cumulative_deaths_NS = day['cumulative_deaths']\n",
        "        death_date = day['date_death_report']\n",
        "        df_deaths = df_deaths.append({'reporting_date': death_date, 'daily_deaths': daily_deaths_NS,\n",
        "                                    'cumulative_deaths': cumulative_deaths_NS}, ignore_index = True)\n",
        "            \n",
        "    for day in response_NS_cases['cases']:\n",
        "            daily_cases_NS = day['cases']\n",
        "            cumulative_cases_NS = day['cumulative_cases']\n",
        "            case_date = day['date_report']\n",
        "            df_cases = df_cases.append({'reporting_date': case_date, 'daily_cases': daily_cases_NS,\n",
        "                                        'cumulative_cases': cumulative_cases_NS}, ignore_index = True)\n",
        "            \n",
        "    df_NS = pd.merge(df_cases, df_deaths, on='reporting_date')\n",
        "#    df_NS.set_index('reporting_date', inplace=True)\n",
        "    return df_NS"
      ],
      "metadata": {
        "id": "5pGp35AvAbhq"
      },
      "execution_count": 8,
      "outputs": []
    },
    {
      "cell_type": "code",
      "source": [
        "#nunavut\n",
        "def covid_NU(df_deaths, df_cases):\n",
        "    url_NU_deaths = 'https://api.opencovid.ca/timeseries?stat=mortality&loc=NU&after=06-11-2020'\n",
        "    response_NU_deaths = requests.get(url_NU_deaths).json()\n",
        "    url_NU_cases = 'https://api.opencovid.ca/timeseries?stat=cases&loc=NU&after=06-11-2020'\n",
        "    response_NU_cases = requests.get(url_NU_cases).json()\n",
        "\n",
        "    time.sleep(1)\n",
        "\n",
        "    for day in response_NU_deaths['mortality']:\n",
        "        daily_deaths_NU = day['deaths']\n",
        "        cumulative_deaths_NU = day['cumulative_deaths']\n",
        "        death_date = day['date_death_report']\n",
        "        df_deaths = df_deaths.append({'reporting_date': death_date, 'daily_deaths': daily_deaths_NU,\n",
        "                                    'cumulative_deaths': cumulative_deaths_NU}, ignore_index = True)\n",
        "            \n",
        "    for day in response_NU_cases['cases']:\n",
        "            daily_cases_NU = day['cases']\n",
        "            cumulative_cases_NU = day['cumulative_cases']\n",
        "            case_date = day['date_report']\n",
        "            df_cases = df_cases.append({'reporting_date': case_date, 'daily_cases': daily_cases_NU,\n",
        "                                        'cumulative_cases': cumulative_cases_NU}, ignore_index = True)\n",
        "            \n",
        "    df_NU = pd.merge(df_cases, df_deaths, on='reporting_date')\n",
        "#    df_NU.set_index('reporting_date', inplace=True)\n",
        "    return df_NU"
      ],
      "metadata": {
        "id": "W9VmOZLZKTgM"
      },
      "execution_count": 9,
      "outputs": []
    },
    {
      "cell_type": "code",
      "source": [
        "#ontario - first case in canada\n",
        "def covid_ON(df_deaths, df_cases):\n",
        "    url_ON_deaths = 'https://api.opencovid.ca/timeseries?stat=mortality&loc=ON&after=25-01-2020'\n",
        "    response_ON_deaths = requests.get(url_ON_deaths).json()\n",
        "    url_ON_cases = 'https://api.opencovid.ca/timeseries?stat=cases&loc=ON&after=25-01-2020'\n",
        "    response_ON_cases = requests.get(url_ON_cases).json()\n",
        "\n",
        "    time.sleep(1)\n",
        "\n",
        "    for day in response_ON_deaths['mortality']:\n",
        "        daily_deaths_ON = day['deaths']\n",
        "        cumulative_deaths_ON = day['cumulative_deaths']\n",
        "        death_date = day['date_death_report']\n",
        "        df_deaths = df_deaths.append({'reporting_date': death_date, 'daily_deaths': daily_deaths_ON,\n",
        "                                    'cumulative_deaths': cumulative_deaths_ON}, ignore_index = True)\n",
        "            \n",
        "    for day in response_ON_cases['cases']:\n",
        "            daily_cases_ON = day['cases']\n",
        "            cumulative_cases_ON = day['cumulative_cases']\n",
        "            case_date = day['date_report']\n",
        "            df_cases = df_cases.append({'reporting_date': case_date, 'daily_cases': daily_cases_ON,\n",
        "                                        'cumulative_cases': cumulative_cases_ON}, ignore_index = True)\n",
        "            \n",
        "    df_ON = pd.merge(df_cases, df_deaths, on='reporting_date')\n",
        " #   df_ON.set_index('reporting_date', inplace=True)\n",
        "    return df_ON"
      ],
      "metadata": {
        "id": "udL0i3DrK08H"
      },
      "execution_count": 10,
      "outputs": []
    },
    {
      "cell_type": "code",
      "source": [
        "#PEI\n",
        "def covid_PE(df_deaths, df_cases):\n",
        "    url_PE_deaths = 'https://api.opencovid.ca/timeseries?stat=mortality&loc=PE&after=14-03-2020'\n",
        "    response_PE_deaths = requests.get(url_PE_deaths).json()\n",
        "    url_PE_cases = 'https://api.opencovid.ca/timeseries?stat=cases&loc=PE&after=14-03-2020'\n",
        "    response_PE_cases = requests.get(url_PE_cases).json()\n",
        "\n",
        "    time.sleep(1)\n",
        "\n",
        "    for day in response_PE_deaths['mortality']:\n",
        "        daily_deaths_PE = day['deaths']\n",
        "        cumulative_deaths_PE = day['cumulative_deaths']\n",
        "        death_date = day['date_death_report']\n",
        "        df_deaths = df_deaths.append({'reporting_date': death_date, 'daily_deaths': daily_deaths_PE,\n",
        "                                    'cumulative_deaths': cumulative_deaths_PE}, ignore_index = True)\n",
        "            \n",
        "    for day in response_PE_cases['cases']:\n",
        "            daily_cases_PE = day['cases']\n",
        "            cumulative_cases_PE = day['cumulative_cases']\n",
        "            case_date = day['date_report']\n",
        "            df_cases = df_cases.append({'reporting_date': case_date, 'daily_cases': daily_cases_PE,\n",
        "                                        'cumulative_cases': cumulative_cases_PE}, ignore_index = True)\n",
        "            \n",
        "    df_PE = pd.merge(df_cases, df_deaths, on='reporting_date')\n",
        "#    df_PE.set_index('reporting_date', inplace=True)\n",
        "    return df_PE"
      ],
      "metadata": {
        "id": "VU-erEDgLIG_"
      },
      "execution_count": 11,
      "outputs": []
    },
    {
      "cell_type": "code",
      "source": [
        "#Quebec\n",
        "def covid_QC(df_deaths, df_cases):\n",
        "    url_QC_deaths = 'https://api.opencovid.ca/timeseries?stat=mortality&loc=QC&after=27-02-2020'\n",
        "    response_QC_deaths = requests.get(url_QC_deaths).json()\n",
        "    url_QC_cases = 'https://api.opencovid.ca/timeseries?stat=cases&loc=QC&after=27-02-2020'\n",
        "    response_QC_cases = requests.get(url_QC_cases).json()\n",
        "\n",
        "    time.sleep(1)\n",
        "\n",
        "    for day in response_QC_deaths['mortality']:\n",
        "        daily_deaths_QC = day['deaths']\n",
        "        cumulative_deaths_QC = day['cumulative_deaths']\n",
        "        death_date = day['date_death_report']\n",
        "        df_deaths = df_deaths.append({'reporting_date': death_date, 'daily_deaths': daily_deaths_QC,\n",
        "                                    'cumulative_deaths': cumulative_deaths_QC}, ignore_index = True)\n",
        "            \n",
        "    for day in response_QC_cases['cases']:\n",
        "            daily_cases_QC = day['cases']\n",
        "            cumulative_cases_QC = day['cumulative_cases']\n",
        "            case_date = day['date_report']\n",
        "            df_cases = df_cases.append({'reporting_date': case_date, 'daily_cases': daily_cases_QC,\n",
        "                                        'cumulative_cases': cumulative_cases_QC}, ignore_index = True)\n",
        "            \n",
        "    df_QC = pd.merge(df_cases, df_deaths, on='reporting_date')\n",
        "#    df_QC.set_index('reporting_date', inplace=True)\n",
        "    return df_QC"
      ],
      "metadata": {
        "id": "xsTuRnF4LdA6"
      },
      "execution_count": 12,
      "outputs": []
    },
    {
      "cell_type": "code",
      "source": [
        "#Saskatchewan\n",
        "def covid_SK(df_deaths, df_cases):\n",
        "    url_SK_deaths = 'https://api.opencovid.ca/timeseries?stat=mortality&loc=SK&after=12-03-2020'\n",
        "    response_SK_deaths = requests.get(url_SK_deaths).json()\n",
        "    url_SK_cases = 'https://api.opencovid.ca/timeseries?stat=cases&loc=SK&after=12-03-2020'\n",
        "    response_SK_cases = requests.get(url_SK_cases).json()\n",
        "\n",
        "    time.sleep(1)\n",
        "\n",
        "    for day in response_SK_deaths['mortality']:\n",
        "        daily_deaths_SK = day['deaths']\n",
        "        cumulative_deaths_SK = day['cumulative_deaths']\n",
        "        death_date = day['date_death_report']\n",
        "        df_deaths = df_deaths.append({'reporting_date': death_date, 'daily_deaths': daily_deaths_SK,\n",
        "                                    'cumulative_deaths': cumulative_deaths_SK}, ignore_index = True)\n",
        "            \n",
        "    for day in response_SK_cases['cases']:\n",
        "            daily_cases_SK = day['cases']\n",
        "            cumulative_cases_SK = day['cumulative_cases']\n",
        "            case_date = day['date_report']\n",
        "            df_cases = df_cases.append({'reporting_date': case_date, 'daily_cases': daily_cases_SK,\n",
        "                                        'cumulative_cases': cumulative_cases_SK}, ignore_index = True)\n",
        "            \n",
        "    df_SK = pd.merge(df_cases, df_deaths, on='reporting_date')\n",
        "#    df_SK.set_index('reporting_date', inplace=True)\n",
        "    return df_SK"
      ],
      "metadata": {
        "id": "yBRx_F1kLvIS"
      },
      "execution_count": 13,
      "outputs": []
    },
    {
      "cell_type": "code",
      "source": [
        "#Yukon\n",
        "def covid_YT(df_deaths, df_cases):\n",
        "    url_YT_deaths = 'https://api.opencovid.ca/timeseries?stat=mortality&loc=YT&after=22-03-2020'\n",
        "    response_YT_deaths = requests.get(url_YT_deaths).json()\n",
        "    url_YT_cases = 'https://api.opencovid.ca/timeseries?stat=cases&loc=YT&after=22-03-2020'\n",
        "    response_YT_cases = requests.get(url_YT_cases).json()\n",
        "\n",
        "    time.sleep(1)\n",
        "\n",
        "    for day in response_YT_deaths['mortality']:\n",
        "        daily_deaths_YT = day['deaths']\n",
        "        cumulative_deaths_YT = day['cumulative_deaths']\n",
        "        death_date = day['date_death_report']\n",
        "        df_deaths = df_deaths.append({'reporting_date': death_date, 'daily_deaths': daily_deaths_YT,\n",
        "                                    'cumulative_deaths': cumulative_deaths_YT}, ignore_index = True)\n",
        "            \n",
        "    for day in response_YT_cases['cases']:\n",
        "            daily_cases_YT = day['cases']\n",
        "            cumulative_cases_YT = day['cumulative_cases']\n",
        "            case_date = day['date_report']\n",
        "            df_cases = df_cases.append({'reporting_date': case_date, 'daily_cases': daily_cases_YT,\n",
        "                                        'cumulative_cases': cumulative_cases_YT}, ignore_index = True)\n",
        "            \n",
        "    df_YT = pd.merge(df_cases, df_deaths, on='reporting_date')\n",
        "#    df_YT.set_index('reporting_date', inplace=True)\n",
        "    return df_YT"
      ],
      "metadata": {
        "id": "yGT4ZHmdL-eA"
      },
      "execution_count": 14,
      "outputs": []
    },
    {
      "cell_type": "code",
      "source": [
        "#Canada\n",
        "def covid_Can(df_deaths, df_cases):\n",
        "    url_Can_deaths = 'https://api.opencovid.ca/timeseries?stat=mortality&loc=canada'\n",
        "    response_Can_deaths = requests.get(url_Can_deaths).json()\n",
        "    url_Can_cases = 'https://api.opencovid.ca/timeseries?stat=cases&loc=canada'\n",
        "    response_Can_cases = requests.get(url_Can_cases).json()\n",
        "\n",
        "    time.sleep(1)\n",
        "\n",
        "    for day in response_Can_deaths['mortality']:\n",
        "        daily_deaths_Can = day['deaths']\n",
        "        cumulative_deaths_Can = day['cumulative_deaths']\n",
        "        death_date = day['date_death_report']\n",
        "        df_deaths = df_deaths.append({'reporting_date': death_date, 'daily_deaths': daily_deaths_Can,\n",
        "                                    'cumulative_deaths': cumulative_deaths_Can}, ignore_index = True)\n",
        "            \n",
        "    for day in response_Can_cases['cases']:\n",
        "            daily_cases_Can = day['cases']\n",
        "            cumulative_cases_Can = day['cumulative_cases']\n",
        "            case_date = day['date_report']\n",
        "            df_cases = df_cases.append({'reporting_date': case_date, 'daily_cases': daily_cases_Can,\n",
        "                                        'cumulative_cases': cumulative_cases_Can}, ignore_index = True)\n",
        "            \n",
        "    df_Can = pd.merge(df_cases, df_deaths, on='reporting_date')\n",
        " #   df_Can.set_index('reporting_date', inplace=True)\n",
        "    return df_Can"
      ],
      "metadata": {
        "id": "KlGJ1XJ1MO5i"
      },
      "execution_count": 15,
      "outputs": []
    },
    {
      "cell_type": "code",
      "source": [
        "#main\n",
        "#build dataframe from API obtained information\n",
        "df_cases_BC = pd.DataFrame(columns=['reporting_date', 'daily_cases', 'cumulative_cases'])\n",
        "df_deaths_BC = pd.DataFrame(columns=['reporting_date', 'daily_deaths', 'cumulative_deaths'])\n",
        "df_BC = covid_BC(df_deaths_BC, df_cases_BC)\n",
        "\n",
        "df_cases_AB = pd.DataFrame(columns=['reporting_date', 'daily_cases', 'cumulative_cases'])\n",
        "df_deaths_AB = pd.DataFrame(columns=['reporting_date', 'daily_deaths', 'cumulative_deaths'])\n",
        "df_AB = covid_AB(df_deaths_AB, df_cases_AB)\n",
        "\n",
        "df_cases_MB = pd.DataFrame(columns=['reporting_date', 'daily_cases', 'cumulative_cases'])\n",
        "df_deaths_MB = pd.DataFrame(columns=['reporting_date', 'daily_deaths', 'cumulative_deaths'])\n",
        "df_MB = covid_MB(df_deaths_MB, df_cases_MB)\n",
        "\n",
        "df_cases_NB = pd.DataFrame(columns=['reporting_date', 'daily_cases', 'cumulative_cases'])\n",
        "df_deaths_NB = pd.DataFrame(columns=['reporting_date', 'daily_deaths', 'cumulative_deaths'])\n",
        "df_NB = covid_NB(df_deaths_NB, df_cases_NB)\n",
        "\n",
        "df_cases_NL = pd.DataFrame(columns=['reporting_date', 'daily_cases', 'cumulative_cases'])\n",
        "df_deaths_NL = pd.DataFrame(columns=['reporting_date', 'daily_deaths', 'cumulative_deaths'])\n",
        "df_NL = covid_NL(df_deaths_NL, df_cases_NL)\n",
        "\n",
        "df_cases_NT = pd.DataFrame(columns=['reporting_date', 'daily_cases', 'cumulative_cases'])\n",
        "df_deaths_NT = pd.DataFrame(columns=['reporting_date', 'daily_deaths', 'cumulative_deaths'])\n",
        "df_NT = covid_NT(df_deaths_NT, df_cases_NT)\n",
        "\n",
        "df_cases_NS = pd.DataFrame(columns=['reporting_date', 'daily_cases', 'cumulative_cases'])\n",
        "df_deaths_NS = pd.DataFrame(columns=['reporting_date', 'daily_deaths', 'cumulative_deaths'])\n",
        "df_NS = covid_NS(df_deaths_NS, df_cases_NS)\n",
        "\n",
        "df_cases_NU = pd.DataFrame(columns=['reporting_date', 'daily_cases', 'cumulative_cases'])\n",
        "df_deaths_NU = pd.DataFrame(columns=['reporting_date', 'daily_deaths', 'cumulative_deaths'])\n",
        "df_NU = covid_NU(df_deaths_NU, df_cases_NU)\n",
        "\n",
        "df_cases_ON = pd.DataFrame(columns=['reporting_date', 'daily_cases', 'cumulative_cases'])\n",
        "df_deaths_ON = pd.DataFrame(columns=['reporting_date', 'daily_deaths', 'cumulative_deaths'])\n",
        "df_ON = covid_ON(df_deaths_ON, df_cases_ON)\n",
        "\n",
        "df_cases_PE = pd.DataFrame(columns=['reporting_date', 'daily_cases', 'cumulative_cases'])\n",
        "df_deaths_PE = pd.DataFrame(columns=['reporting_date', 'daily_deaths', 'cumulative_deaths'])\n",
        "df_PE = covid_PE(df_deaths_PE, df_cases_PE)\n",
        "\n",
        "df_cases_QC = pd.DataFrame(columns=['reporting_date', 'daily_cases', 'cumulative_cases'])\n",
        "df_deaths_QC = pd.DataFrame(columns=['reporting_date', 'daily_deaths', 'cumulative_deaths'])\n",
        "df_QC = covid_QC(df_deaths_QC, df_cases_QC)\n",
        "\n",
        "df_cases_SK = pd.DataFrame(columns=['reporting_date', 'daily_cases', 'cumulative_cases'])\n",
        "df_deaths_SK = pd.DataFrame(columns=['reporting_date', 'daily_deaths', 'cumulative_deaths'])\n",
        "df_SK = covid_SK(df_deaths_SK, df_cases_SK)\n",
        "\n",
        "df_cases_YT = pd.DataFrame(columns=['reporting_date', 'daily_cases', 'cumulative_cases'])\n",
        "df_deaths_YT = pd.DataFrame(columns=['reporting_date', 'daily_deaths', 'cumulative_deaths'])\n",
        "df_YT = covid_YT(df_deaths_YT, df_cases_YT)\n",
        "\n",
        "df_cases_Can = pd.DataFrame(columns=['reporting_date', 'daily_cases', 'cumulative_cases'])\n",
        "df_deaths_Can = pd.DataFrame(columns=['reporting_date', 'daily_deaths', 'cumulative_deaths'])\n",
        "df_Can = covid_Can(df_deaths_Can, df_cases_Can)"
      ],
      "metadata": {
        "id": "rnYy0aJ6pAs7"
      },
      "execution_count": 16,
      "outputs": []
    },
    {
      "cell_type": "code",
      "source": [
        "df_BC.to_csv('bc_covid_' + time.strftime('%m%d%Y') + '.csv')\n",
        "files.download('bc_covid_' + time.strftime('%m%d%Y') + '.csv')\n",
        "\n",
        "df_AB.to_csv('ab_covid_' + time.strftime('%m%d%Y') + '.csv')\n",
        "files.download('ab_covid_' + time.strftime('%m%d%Y') + '.csv')\n",
        "\n",
        "df_MB.to_csv('mb_covid_' + time.strftime('%m%d%Y') + '.csv')\n",
        "files.download('mb_covid_' + time.strftime('%m%d%Y') + '.csv')\n",
        "\n",
        "df_NB.to_csv('nb_covid_' + time.strftime('%m%d%Y') + '.csv')\n",
        "files.download('nb_covid_' + time.strftime('%m%d%Y') + '.csv')\n",
        "\n",
        "df_NL.to_csv('nl_covid_' + time.strftime('%m%d%Y') + '.csv')\n",
        "files.download('nl_covid_' + time.strftime('%m%d%Y') + '.csv')\n",
        "\n",
        "df_NT.to_csv('nt_covid_' + time.strftime('%m%d%Y') + '.csv')\n",
        "files.download('nt_covid_' + time.strftime('%m%d%Y') + '.csv')\n",
        "\n",
        "df_NS.to_csv('ns_covid_' + time.strftime('%m%d%Y') + '.csv')\n",
        "files.download('ns_covid_' + time.strftime('%m%d%Y') + '.csv')\n",
        "\n",
        "df_NU.to_csv('nu_covid_' + time.strftime('%m%d%Y') + '.csv')\n",
        "files.download('nu_covid_' + time.strftime('%m%d%Y') + '.csv')\n",
        "\n",
        "df_ON.to_csv('on_covid_' + time.strftime('%m%d%Y') + '.csv')\n",
        "files.download('on_covid_' + time.strftime('%m%d%Y') + '.csv')\n",
        "\n",
        "df_PE.to_csv('pe_covid_' + time.strftime('%m%d%Y') + '.csv')\n",
        "files.download('pe_covid_' + time.strftime('%m%d%Y') + '.csv')\n"
      ],
      "metadata": {
        "colab": {
          "base_uri": "https://localhost:8080/",
          "height": 17
        },
        "id": "yRlSZzDuOv5U",
        "outputId": "afd07b9b-edf8-4690-a224-54c7908dedba"
      },
      "execution_count": 17,
      "outputs": [
        {
          "output_type": "display_data",
          "data": {
            "application/javascript": [
              "\n",
              "    async function download(id, filename, size) {\n",
              "      if (!google.colab.kernel.accessAllowed) {\n",
              "        return;\n",
              "      }\n",
              "      const div = document.createElement('div');\n",
              "      const label = document.createElement('label');\n",
              "      label.textContent = `Downloading \"${filename}\": `;\n",
              "      div.appendChild(label);\n",
              "      const progress = document.createElement('progress');\n",
              "      progress.max = size;\n",
              "      div.appendChild(progress);\n",
              "      document.body.appendChild(div);\n",
              "\n",
              "      const buffers = [];\n",
              "      let downloaded = 0;\n",
              "\n",
              "      const channel = await google.colab.kernel.comms.open(id);\n",
              "      // Send a message to notify the kernel that we're ready.\n",
              "      channel.send({})\n",
              "\n",
              "      for await (const message of channel.messages) {\n",
              "        // Send a message to notify the kernel that we're ready.\n",
              "        channel.send({})\n",
              "        if (message.buffers) {\n",
              "          for (const buffer of message.buffers) {\n",
              "            buffers.push(buffer);\n",
              "            downloaded += buffer.byteLength;\n",
              "            progress.value = downloaded;\n",
              "          }\n",
              "        }\n",
              "      }\n",
              "      const blob = new Blob(buffers, {type: 'application/binary'});\n",
              "      const a = document.createElement('a');\n",
              "      a.href = window.URL.createObjectURL(blob);\n",
              "      a.download = filename;\n",
              "      div.appendChild(a);\n",
              "      a.click();\n",
              "      div.remove();\n",
              "    }\n",
              "  "
            ],
            "text/plain": [
              "<IPython.core.display.Javascript object>"
            ]
          },
          "metadata": {}
        },
        {
          "output_type": "display_data",
          "data": {
            "application/javascript": [
              "download(\"download_f178a165-8186-4af4-8b80-5a3ed7d58855\", \"bc_covid_01222022.csv\", 21176)"
            ],
            "text/plain": [
              "<IPython.core.display.Javascript object>"
            ]
          },
          "metadata": {}
        },
        {
          "output_type": "display_data",
          "data": {
            "application/javascript": [
              "\n",
              "    async function download(id, filename, size) {\n",
              "      if (!google.colab.kernel.accessAllowed) {\n",
              "        return;\n",
              "      }\n",
              "      const div = document.createElement('div');\n",
              "      const label = document.createElement('label');\n",
              "      label.textContent = `Downloading \"${filename}\": `;\n",
              "      div.appendChild(label);\n",
              "      const progress = document.createElement('progress');\n",
              "      progress.max = size;\n",
              "      div.appendChild(progress);\n",
              "      document.body.appendChild(div);\n",
              "\n",
              "      const buffers = [];\n",
              "      let downloaded = 0;\n",
              "\n",
              "      const channel = await google.colab.kernel.comms.open(id);\n",
              "      // Send a message to notify the kernel that we're ready.\n",
              "      channel.send({})\n",
              "\n",
              "      for await (const message of channel.messages) {\n",
              "        // Send a message to notify the kernel that we're ready.\n",
              "        channel.send({})\n",
              "        if (message.buffers) {\n",
              "          for (const buffer of message.buffers) {\n",
              "            buffers.push(buffer);\n",
              "            downloaded += buffer.byteLength;\n",
              "            progress.value = downloaded;\n",
              "          }\n",
              "        }\n",
              "      }\n",
              "      const blob = new Blob(buffers, {type: 'application/binary'});\n",
              "      const a = document.createElement('a');\n",
              "      a.href = window.URL.createObjectURL(blob);\n",
              "      a.download = filename;\n",
              "      div.appendChild(a);\n",
              "      a.click();\n",
              "      div.remove();\n",
              "    }\n",
              "  "
            ],
            "text/plain": [
              "<IPython.core.display.Javascript object>"
            ]
          },
          "metadata": {}
        },
        {
          "output_type": "display_data",
          "data": {
            "application/javascript": [
              "download(\"download_eb120462-8851-49f9-8efe-68962fdacf06\", \"ab_covid_01222022.csv\", 21615)"
            ],
            "text/plain": [
              "<IPython.core.display.Javascript object>"
            ]
          },
          "metadata": {}
        },
        {
          "output_type": "display_data",
          "data": {
            "application/javascript": [
              "\n",
              "    async function download(id, filename, size) {\n",
              "      if (!google.colab.kernel.accessAllowed) {\n",
              "        return;\n",
              "      }\n",
              "      const div = document.createElement('div');\n",
              "      const label = document.createElement('label');\n",
              "      label.textContent = `Downloading \"${filename}\": `;\n",
              "      div.appendChild(label);\n",
              "      const progress = document.createElement('progress');\n",
              "      progress.max = size;\n",
              "      div.appendChild(progress);\n",
              "      document.body.appendChild(div);\n",
              "\n",
              "      const buffers = [];\n",
              "      let downloaded = 0;\n",
              "\n",
              "      const channel = await google.colab.kernel.comms.open(id);\n",
              "      // Send a message to notify the kernel that we're ready.\n",
              "      channel.send({})\n",
              "\n",
              "      for await (const message of channel.messages) {\n",
              "        // Send a message to notify the kernel that we're ready.\n",
              "        channel.send({})\n",
              "        if (message.buffers) {\n",
              "          for (const buffer of message.buffers) {\n",
              "            buffers.push(buffer);\n",
              "            downloaded += buffer.byteLength;\n",
              "            progress.value = downloaded;\n",
              "          }\n",
              "        }\n",
              "      }\n",
              "      const blob = new Blob(buffers, {type: 'application/binary'});\n",
              "      const a = document.createElement('a');\n",
              "      a.href = window.URL.createObjectURL(blob);\n",
              "      a.download = filename;\n",
              "      div.appendChild(a);\n",
              "      a.click();\n",
              "      div.remove();\n",
              "    }\n",
              "  "
            ],
            "text/plain": [
              "<IPython.core.display.Javascript object>"
            ]
          },
          "metadata": {}
        },
        {
          "output_type": "display_data",
          "data": {
            "application/javascript": [
              "download(\"download_e3686c11-e3af-4c00-a306-e8ef6e62decf\", \"mb_covid_01222022.csv\", 19952)"
            ],
            "text/plain": [
              "<IPython.core.display.Javascript object>"
            ]
          },
          "metadata": {}
        },
        {
          "output_type": "display_data",
          "data": {
            "application/javascript": [
              "\n",
              "    async function download(id, filename, size) {\n",
              "      if (!google.colab.kernel.accessAllowed) {\n",
              "        return;\n",
              "      }\n",
              "      const div = document.createElement('div');\n",
              "      const label = document.createElement('label');\n",
              "      label.textContent = `Downloading \"${filename}\": `;\n",
              "      div.appendChild(label);\n",
              "      const progress = document.createElement('progress');\n",
              "      progress.max = size;\n",
              "      div.appendChild(progress);\n",
              "      document.body.appendChild(div);\n",
              "\n",
              "      const buffers = [];\n",
              "      let downloaded = 0;\n",
              "\n",
              "      const channel = await google.colab.kernel.comms.open(id);\n",
              "      // Send a message to notify the kernel that we're ready.\n",
              "      channel.send({})\n",
              "\n",
              "      for await (const message of channel.messages) {\n",
              "        // Send a message to notify the kernel that we're ready.\n",
              "        channel.send({})\n",
              "        if (message.buffers) {\n",
              "          for (const buffer of message.buffers) {\n",
              "            buffers.push(buffer);\n",
              "            downloaded += buffer.byteLength;\n",
              "            progress.value = downloaded;\n",
              "          }\n",
              "        }\n",
              "      }\n",
              "      const blob = new Blob(buffers, {type: 'application/binary'});\n",
              "      const a = document.createElement('a');\n",
              "      a.href = window.URL.createObjectURL(blob);\n",
              "      a.download = filename;\n",
              "      div.appendChild(a);\n",
              "      a.click();\n",
              "      div.remove();\n",
              "    }\n",
              "  "
            ],
            "text/plain": [
              "<IPython.core.display.Javascript object>"
            ]
          },
          "metadata": {}
        },
        {
          "output_type": "display_data",
          "data": {
            "application/javascript": [
              "download(\"download_906f67d8-1bd7-4571-921a-3d92345cb451\", \"nb_covid_01222022.csv\", 18124)"
            ],
            "text/plain": [
              "<IPython.core.display.Javascript object>"
            ]
          },
          "metadata": {}
        },
        {
          "output_type": "display_data",
          "data": {
            "application/javascript": [
              "\n",
              "    async function download(id, filename, size) {\n",
              "      if (!google.colab.kernel.accessAllowed) {\n",
              "        return;\n",
              "      }\n",
              "      const div = document.createElement('div');\n",
              "      const label = document.createElement('label');\n",
              "      label.textContent = `Downloading \"${filename}\": `;\n",
              "      div.appendChild(label);\n",
              "      const progress = document.createElement('progress');\n",
              "      progress.max = size;\n",
              "      div.appendChild(progress);\n",
              "      document.body.appendChild(div);\n",
              "\n",
              "      const buffers = [];\n",
              "      let downloaded = 0;\n",
              "\n",
              "      const channel = await google.colab.kernel.comms.open(id);\n",
              "      // Send a message to notify the kernel that we're ready.\n",
              "      channel.send({})\n",
              "\n",
              "      for await (const message of channel.messages) {\n",
              "        // Send a message to notify the kernel that we're ready.\n",
              "        channel.send({})\n",
              "        if (message.buffers) {\n",
              "          for (const buffer of message.buffers) {\n",
              "            buffers.push(buffer);\n",
              "            downloaded += buffer.byteLength;\n",
              "            progress.value = downloaded;\n",
              "          }\n",
              "        }\n",
              "      }\n",
              "      const blob = new Blob(buffers, {type: 'application/binary'});\n",
              "      const a = document.createElement('a');\n",
              "      a.href = window.URL.createObjectURL(blob);\n",
              "      a.download = filename;\n",
              "      div.appendChild(a);\n",
              "      a.click();\n",
              "      div.remove();\n",
              "    }\n",
              "  "
            ],
            "text/plain": [
              "<IPython.core.display.Javascript object>"
            ]
          },
          "metadata": {}
        },
        {
          "output_type": "display_data",
          "data": {
            "application/javascript": [
              "download(\"download_25d5dd0a-bc25-4c26-99cc-7fe77af3fa07\", \"nl_covid_01222022.csv\", 17472)"
            ],
            "text/plain": [
              "<IPython.core.display.Javascript object>"
            ]
          },
          "metadata": {}
        },
        {
          "output_type": "display_data",
          "data": {
            "application/javascript": [
              "\n",
              "    async function download(id, filename, size) {\n",
              "      if (!google.colab.kernel.accessAllowed) {\n",
              "        return;\n",
              "      }\n",
              "      const div = document.createElement('div');\n",
              "      const label = document.createElement('label');\n",
              "      label.textContent = `Downloading \"${filename}\": `;\n",
              "      div.appendChild(label);\n",
              "      const progress = document.createElement('progress');\n",
              "      progress.max = size;\n",
              "      div.appendChild(progress);\n",
              "      document.body.appendChild(div);\n",
              "\n",
              "      const buffers = [];\n",
              "      let downloaded = 0;\n",
              "\n",
              "      const channel = await google.colab.kernel.comms.open(id);\n",
              "      // Send a message to notify the kernel that we're ready.\n",
              "      channel.send({})\n",
              "\n",
              "      for await (const message of channel.messages) {\n",
              "        // Send a message to notify the kernel that we're ready.\n",
              "        channel.send({})\n",
              "        if (message.buffers) {\n",
              "          for (const buffer of message.buffers) {\n",
              "            buffers.push(buffer);\n",
              "            downloaded += buffer.byteLength;\n",
              "            progress.value = downloaded;\n",
              "          }\n",
              "        }\n",
              "      }\n",
              "      const blob = new Blob(buffers, {type: 'application/binary'});\n",
              "      const a = document.createElement('a');\n",
              "      a.href = window.URL.createObjectURL(blob);\n",
              "      a.download = filename;\n",
              "      div.appendChild(a);\n",
              "      a.click();\n",
              "      div.remove();\n",
              "    }\n",
              "  "
            ],
            "text/plain": [
              "<IPython.core.display.Javascript object>"
            ]
          },
          "metadata": {}
        },
        {
          "output_type": "display_data",
          "data": {
            "application/javascript": [
              "download(\"download_a4b87e16-bcf2-457e-bac6-d16cbb042a87\", \"nt_covid_01222022.csv\", 16424)"
            ],
            "text/plain": [
              "<IPython.core.display.Javascript object>"
            ]
          },
          "metadata": {}
        },
        {
          "output_type": "display_data",
          "data": {
            "application/javascript": [
              "\n",
              "    async function download(id, filename, size) {\n",
              "      if (!google.colab.kernel.accessAllowed) {\n",
              "        return;\n",
              "      }\n",
              "      const div = document.createElement('div');\n",
              "      const label = document.createElement('label');\n",
              "      label.textContent = `Downloading \"${filename}\": `;\n",
              "      div.appendChild(label);\n",
              "      const progress = document.createElement('progress');\n",
              "      progress.max = size;\n",
              "      div.appendChild(progress);\n",
              "      document.body.appendChild(div);\n",
              "\n",
              "      const buffers = [];\n",
              "      let downloaded = 0;\n",
              "\n",
              "      const channel = await google.colab.kernel.comms.open(id);\n",
              "      // Send a message to notify the kernel that we're ready.\n",
              "      channel.send({})\n",
              "\n",
              "      for await (const message of channel.messages) {\n",
              "        // Send a message to notify the kernel that we're ready.\n",
              "        channel.send({})\n",
              "        if (message.buffers) {\n",
              "          for (const buffer of message.buffers) {\n",
              "            buffers.push(buffer);\n",
              "            downloaded += buffer.byteLength;\n",
              "            progress.value = downloaded;\n",
              "          }\n",
              "        }\n",
              "      }\n",
              "      const blob = new Blob(buffers, {type: 'application/binary'});\n",
              "      const a = document.createElement('a');\n",
              "      a.href = window.URL.createObjectURL(blob);\n",
              "      a.download = filename;\n",
              "      div.appendChild(a);\n",
              "      a.click();\n",
              "      div.remove();\n",
              "    }\n",
              "  "
            ],
            "text/plain": [
              "<IPython.core.display.Javascript object>"
            ]
          },
          "metadata": {}
        },
        {
          "output_type": "display_data",
          "data": {
            "application/javascript": [
              "download(\"download_b3d8bb43-400f-4f09-8f26-63350784652d\", \"ns_covid_01222022.csv\", 18569)"
            ],
            "text/plain": [
              "<IPython.core.display.Javascript object>"
            ]
          },
          "metadata": {}
        },
        {
          "output_type": "display_data",
          "data": {
            "application/javascript": [
              "\n",
              "    async function download(id, filename, size) {\n",
              "      if (!google.colab.kernel.accessAllowed) {\n",
              "        return;\n",
              "      }\n",
              "      const div = document.createElement('div');\n",
              "      const label = document.createElement('label');\n",
              "      label.textContent = `Downloading \"${filename}\": `;\n",
              "      div.appendChild(label);\n",
              "      const progress = document.createElement('progress');\n",
              "      progress.max = size;\n",
              "      div.appendChild(progress);\n",
              "      document.body.appendChild(div);\n",
              "\n",
              "      const buffers = [];\n",
              "      let downloaded = 0;\n",
              "\n",
              "      const channel = await google.colab.kernel.comms.open(id);\n",
              "      // Send a message to notify the kernel that we're ready.\n",
              "      channel.send({})\n",
              "\n",
              "      for await (const message of channel.messages) {\n",
              "        // Send a message to notify the kernel that we're ready.\n",
              "        channel.send({})\n",
              "        if (message.buffers) {\n",
              "          for (const buffer of message.buffers) {\n",
              "            buffers.push(buffer);\n",
              "            downloaded += buffer.byteLength;\n",
              "            progress.value = downloaded;\n",
              "          }\n",
              "        }\n",
              "      }\n",
              "      const blob = new Blob(buffers, {type: 'application/binary'});\n",
              "      const a = document.createElement('a');\n",
              "      a.href = window.URL.createObjectURL(blob);\n",
              "      a.download = filename;\n",
              "      div.appendChild(a);\n",
              "      a.click();\n",
              "      div.remove();\n",
              "    }\n",
              "  "
            ],
            "text/plain": [
              "<IPython.core.display.Javascript object>"
            ]
          },
          "metadata": {}
        },
        {
          "output_type": "display_data",
          "data": {
            "application/javascript": [
              "download(\"download_80ff14fc-75f6-4a25-af12-23c9a7f792b4\", \"nu_covid_01222022.csv\", 11044)"
            ],
            "text/plain": [
              "<IPython.core.display.Javascript object>"
            ]
          },
          "metadata": {}
        },
        {
          "output_type": "display_data",
          "data": {
            "application/javascript": [
              "\n",
              "    async function download(id, filename, size) {\n",
              "      if (!google.colab.kernel.accessAllowed) {\n",
              "        return;\n",
              "      }\n",
              "      const div = document.createElement('div');\n",
              "      const label = document.createElement('label');\n",
              "      label.textContent = `Downloading \"${filename}\": `;\n",
              "      div.appendChild(label);\n",
              "      const progress = document.createElement('progress');\n",
              "      progress.max = size;\n",
              "      div.appendChild(progress);\n",
              "      document.body.appendChild(div);\n",
              "\n",
              "      const buffers = [];\n",
              "      let downloaded = 0;\n",
              "\n",
              "      const channel = await google.colab.kernel.comms.open(id);\n",
              "      // Send a message to notify the kernel that we're ready.\n",
              "      channel.send({})\n",
              "\n",
              "      for await (const message of channel.messages) {\n",
              "        // Send a message to notify the kernel that we're ready.\n",
              "        channel.send({})\n",
              "        if (message.buffers) {\n",
              "          for (const buffer of message.buffers) {\n",
              "            buffers.push(buffer);\n",
              "            downloaded += buffer.byteLength;\n",
              "            progress.value = downloaded;\n",
              "          }\n",
              "        }\n",
              "      }\n",
              "      const blob = new Blob(buffers, {type: 'application/binary'});\n",
              "      const a = document.createElement('a');\n",
              "      a.href = window.URL.createObjectURL(blob);\n",
              "      a.download = filename;\n",
              "      div.appendChild(a);\n",
              "      a.click();\n",
              "      div.remove();\n",
              "    }\n",
              "  "
            ],
            "text/plain": [
              "<IPython.core.display.Javascript object>"
            ]
          },
          "metadata": {}
        },
        {
          "output_type": "display_data",
          "data": {
            "application/javascript": [
              "download(\"download_6b177326-8659-4512-86b9-eff8c09f3a0b\", \"on_covid_01222022.csv\", 22775)"
            ],
            "text/plain": [
              "<IPython.core.display.Javascript object>"
            ]
          },
          "metadata": {}
        },
        {
          "output_type": "display_data",
          "data": {
            "application/javascript": [
              "\n",
              "    async function download(id, filename, size) {\n",
              "      if (!google.colab.kernel.accessAllowed) {\n",
              "        return;\n",
              "      }\n",
              "      const div = document.createElement('div');\n",
              "      const label = document.createElement('label');\n",
              "      label.textContent = `Downloading \"${filename}\": `;\n",
              "      div.appendChild(label);\n",
              "      const progress = document.createElement('progress');\n",
              "      progress.max = size;\n",
              "      div.appendChild(progress);\n",
              "      document.body.appendChild(div);\n",
              "\n",
              "      const buffers = [];\n",
              "      let downloaded = 0;\n",
              "\n",
              "      const channel = await google.colab.kernel.comms.open(id);\n",
              "      // Send a message to notify the kernel that we're ready.\n",
              "      channel.send({})\n",
              "\n",
              "      for await (const message of channel.messages) {\n",
              "        // Send a message to notify the kernel that we're ready.\n",
              "        channel.send({})\n",
              "        if (message.buffers) {\n",
              "          for (const buffer of message.buffers) {\n",
              "            buffers.push(buffer);\n",
              "            downloaded += buffer.byteLength;\n",
              "            progress.value = downloaded;\n",
              "          }\n",
              "        }\n",
              "      }\n",
              "      const blob = new Blob(buffers, {type: 'application/binary'});\n",
              "      const a = document.createElement('a');\n",
              "      a.href = window.URL.createObjectURL(blob);\n",
              "      a.download = filename;\n",
              "      div.appendChild(a);\n",
              "      a.click();\n",
              "      div.remove();\n",
              "    }\n",
              "  "
            ],
            "text/plain": [
              "<IPython.core.display.Javascript object>"
            ]
          },
          "metadata": {}
        },
        {
          "output_type": "display_data",
          "data": {
            "application/javascript": [
              "download(\"download_a04a5ab3-9a9d-4baf-87ad-acf571c4cf27\", \"pe_covid_01222022.csv\", 16713)"
            ],
            "text/plain": [
              "<IPython.core.display.Javascript object>"
            ]
          },
          "metadata": {}
        }
      ]
    },
    {
      "cell_type": "code",
      "source": [
        "df_QC.to_csv('qc_covid_' + time.strftime('%m%d%Y') + '.csv')\n",
        "files.download('qc_covid_' + time.strftime('%m%d%Y') + '.csv')\n",
        "\n",
        "df_SK.to_csv('sk_covid_' + time.strftime('%m%d%Y') + '.csv')\n",
        "files.download('sk_covid_' + time.strftime('%m%d%Y') + '.csv')\n",
        "\n",
        "df_YT.to_csv('yt_covid_' + time.strftime('%m%d%Y') + '.csv')\n",
        "files.download('yt_covid_' + time.strftime('%m%d%Y') + '.csv')\n",
        "\n",
        "df_Can.to_csv('Can_covid_' + time.strftime('%m%d%Y') + '.csv')\n",
        "files.download('Can_covid_' + time.strftime('%m%d%Y') + '.csv')"
      ],
      "metadata": {
        "colab": {
          "base_uri": "https://localhost:8080/",
          "height": 17
        },
        "id": "PzPoU_N3DFMz",
        "outputId": "8efeb3a1-feea-4c46-ced4-20313fe59fa7"
      },
      "execution_count": 18,
      "outputs": [
        {
          "output_type": "display_data",
          "data": {
            "application/javascript": [
              "\n",
              "    async function download(id, filename, size) {\n",
              "      if (!google.colab.kernel.accessAllowed) {\n",
              "        return;\n",
              "      }\n",
              "      const div = document.createElement('div');\n",
              "      const label = document.createElement('label');\n",
              "      label.textContent = `Downloading \"${filename}\": `;\n",
              "      div.appendChild(label);\n",
              "      const progress = document.createElement('progress');\n",
              "      progress.max = size;\n",
              "      div.appendChild(progress);\n",
              "      document.body.appendChild(div);\n",
              "\n",
              "      const buffers = [];\n",
              "      let downloaded = 0;\n",
              "\n",
              "      const channel = await google.colab.kernel.comms.open(id);\n",
              "      // Send a message to notify the kernel that we're ready.\n",
              "      channel.send({})\n",
              "\n",
              "      for await (const message of channel.messages) {\n",
              "        // Send a message to notify the kernel that we're ready.\n",
              "        channel.send({})\n",
              "        if (message.buffers) {\n",
              "          for (const buffer of message.buffers) {\n",
              "            buffers.push(buffer);\n",
              "            downloaded += buffer.byteLength;\n",
              "            progress.value = downloaded;\n",
              "          }\n",
              "        }\n",
              "      }\n",
              "      const blob = new Blob(buffers, {type: 'application/binary'});\n",
              "      const a = document.createElement('a');\n",
              "      a.href = window.URL.createObjectURL(blob);\n",
              "      a.download = filename;\n",
              "      div.appendChild(a);\n",
              "      a.click();\n",
              "      div.remove();\n",
              "    }\n",
              "  "
            ],
            "text/plain": [
              "<IPython.core.display.Javascript object>"
            ]
          },
          "metadata": {}
        },
        {
          "output_type": "display_data",
          "data": {
            "application/javascript": [
              "download(\"download_5382f5a5-0647-4b73-a919-79f75a2ce5d8\", \"qc_covid_01222022.csv\", 22943)"
            ],
            "text/plain": [
              "<IPython.core.display.Javascript object>"
            ]
          },
          "metadata": {}
        },
        {
          "output_type": "display_data",
          "data": {
            "application/javascript": [
              "\n",
              "    async function download(id, filename, size) {\n",
              "      if (!google.colab.kernel.accessAllowed) {\n",
              "        return;\n",
              "      }\n",
              "      const div = document.createElement('div');\n",
              "      const label = document.createElement('label');\n",
              "      label.textContent = `Downloading \"${filename}\": `;\n",
              "      div.appendChild(label);\n",
              "      const progress = document.createElement('progress');\n",
              "      progress.max = size;\n",
              "      div.appendChild(progress);\n",
              "      document.body.appendChild(div);\n",
              "\n",
              "      const buffers = [];\n",
              "      let downloaded = 0;\n",
              "\n",
              "      const channel = await google.colab.kernel.comms.open(id);\n",
              "      // Send a message to notify the kernel that we're ready.\n",
              "      channel.send({})\n",
              "\n",
              "      for await (const message of channel.messages) {\n",
              "        // Send a message to notify the kernel that we're ready.\n",
              "        channel.send({})\n",
              "        if (message.buffers) {\n",
              "          for (const buffer of message.buffers) {\n",
              "            buffers.push(buffer);\n",
              "            downloaded += buffer.byteLength;\n",
              "            progress.value = downloaded;\n",
              "          }\n",
              "        }\n",
              "      }\n",
              "      const blob = new Blob(buffers, {type: 'application/binary'});\n",
              "      const a = document.createElement('a');\n",
              "      a.href = window.URL.createObjectURL(blob);\n",
              "      a.download = filename;\n",
              "      div.appendChild(a);\n",
              "      a.click();\n",
              "      div.remove();\n",
              "    }\n",
              "  "
            ],
            "text/plain": [
              "<IPython.core.display.Javascript object>"
            ]
          },
          "metadata": {}
        },
        {
          "output_type": "display_data",
          "data": {
            "application/javascript": [
              "download(\"download_f62f8e93-1864-4537-9c6f-2f1b0736eac8\", \"sk_covid_01222022.csv\", 19821)"
            ],
            "text/plain": [
              "<IPython.core.display.Javascript object>"
            ]
          },
          "metadata": {}
        },
        {
          "output_type": "display_data",
          "data": {
            "application/javascript": [
              "\n",
              "    async function download(id, filename, size) {\n",
              "      if (!google.colab.kernel.accessAllowed) {\n",
              "        return;\n",
              "      }\n",
              "      const div = document.createElement('div');\n",
              "      const label = document.createElement('label');\n",
              "      label.textContent = `Downloading \"${filename}\": `;\n",
              "      div.appendChild(label);\n",
              "      const progress = document.createElement('progress');\n",
              "      progress.max = size;\n",
              "      div.appendChild(progress);\n",
              "      document.body.appendChild(div);\n",
              "\n",
              "      const buffers = [];\n",
              "      let downloaded = 0;\n",
              "\n",
              "      const channel = await google.colab.kernel.comms.open(id);\n",
              "      // Send a message to notify the kernel that we're ready.\n",
              "      channel.send({})\n",
              "\n",
              "      for await (const message of channel.messages) {\n",
              "        // Send a message to notify the kernel that we're ready.\n",
              "        channel.send({})\n",
              "        if (message.buffers) {\n",
              "          for (const buffer of message.buffers) {\n",
              "            buffers.push(buffer);\n",
              "            downloaded += buffer.byteLength;\n",
              "            progress.value = downloaded;\n",
              "          }\n",
              "        }\n",
              "      }\n",
              "      const blob = new Blob(buffers, {type: 'application/binary'});\n",
              "      const a = document.createElement('a');\n",
              "      a.href = window.URL.createObjectURL(blob);\n",
              "      a.download = filename;\n",
              "      div.appendChild(a);\n",
              "      a.click();\n",
              "      div.remove();\n",
              "    }\n",
              "  "
            ],
            "text/plain": [
              "<IPython.core.display.Javascript object>"
            ]
          },
          "metadata": {}
        },
        {
          "output_type": "display_data",
          "data": {
            "application/javascript": [
              "download(\"download_378ff4bd-b228-409a-a582-416586a1f90d\", \"yt_covid_01222022.csv\", 16519)"
            ],
            "text/plain": [
              "<IPython.core.display.Javascript object>"
            ]
          },
          "metadata": {}
        },
        {
          "output_type": "display_data",
          "data": {
            "application/javascript": [
              "\n",
              "    async function download(id, filename, size) {\n",
              "      if (!google.colab.kernel.accessAllowed) {\n",
              "        return;\n",
              "      }\n",
              "      const div = document.createElement('div');\n",
              "      const label = document.createElement('label');\n",
              "      label.textContent = `Downloading \"${filename}\": `;\n",
              "      div.appendChild(label);\n",
              "      const progress = document.createElement('progress');\n",
              "      progress.max = size;\n",
              "      div.appendChild(progress);\n",
              "      document.body.appendChild(div);\n",
              "\n",
              "      const buffers = [];\n",
              "      let downloaded = 0;\n",
              "\n",
              "      const channel = await google.colab.kernel.comms.open(id);\n",
              "      // Send a message to notify the kernel that we're ready.\n",
              "      channel.send({})\n",
              "\n",
              "      for await (const message of channel.messages) {\n",
              "        // Send a message to notify the kernel that we're ready.\n",
              "        channel.send({})\n",
              "        if (message.buffers) {\n",
              "          for (const buffer of message.buffers) {\n",
              "            buffers.push(buffer);\n",
              "            downloaded += buffer.byteLength;\n",
              "            progress.value = downloaded;\n",
              "          }\n",
              "        }\n",
              "      }\n",
              "      const blob = new Blob(buffers, {type: 'application/binary'});\n",
              "      const a = document.createElement('a');\n",
              "      a.href = window.URL.createObjectURL(blob);\n",
              "      a.download = filename;\n",
              "      div.appendChild(a);\n",
              "      a.click();\n",
              "      div.remove();\n",
              "    }\n",
              "  "
            ],
            "text/plain": [
              "<IPython.core.display.Javascript object>"
            ]
          },
          "metadata": {}
        },
        {
          "output_type": "display_data",
          "data": {
            "application/javascript": [
              "download(\"download_1d0db955-ba42-4e86-a76b-14a2ac695194\", \"Can_covid_01222022.csv\", 24264)"
            ],
            "text/plain": [
              "<IPython.core.display.Javascript object>"
            ]
          },
          "metadata": {}
        }
      ]
    }
  ]
}